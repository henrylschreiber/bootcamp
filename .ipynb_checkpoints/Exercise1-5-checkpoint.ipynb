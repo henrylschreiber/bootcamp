{
 "cells": [
  {
   "cell_type": "code",
   "execution_count": 45,
   "id": "111a9fae-c77a-4e69-9613-342bf847c020",
   "metadata": {},
   "outputs": [],
   "source": [
    "#Attempting lesson 1.5: Longest common sequence\n",
    "\n",
    "#Start the function\n",
    "def longest_common_substring(s1, s2):\n",
    "    \"\"\"\"Identify the longest common substring between two strings\"\"\"\n",
    "    #Set the list of strings to be empty\n",
    "    search_string_list = []\n",
    "    #Start a for loop to change the start of the window\n",
    "    for i in range(len(s1)):\n",
    "        for j in range(i+1, len(s1)+1):\n",
    "            #print(len(s1[i:j])\n",
    "            if (s1[i:j] in s2): \n",
    "                search_string_list += [s1[i:j]]\n",
    "    #Cheat and use dictionary to sort the list\n",
    "    search_string_list.sort(key=len)\n",
    "    print(search_string_list)\n",
    "    #print(search_string_list[-1])"
   ]
  },
  {
   "cell_type": "code",
   "execution_count": 46,
   "id": "bc3a7633-97e9-483d-9875-c4a173a65dd3",
   "metadata": {},
   "outputs": [
    {
     "name": "stdout",
     "output_type": "stream",
     "text": [
      "['G', 'A', 'T', 'G', 'C', 'C', 'A', 'T', 'G', 'C', 'A', 'AT', 'TG', 'GC', 'CC', 'AT', 'TG', 'GC', 'ATG', 'TGC', 'GCC', 'ATG', 'TGC', 'ATGC', 'TGCC', 'ATGC', 'ATGCC']\n"
     ]
    }
   ],
   "source": [
    "longest_common_substring('GATGCCATGCA','ATGCC')"
   ]
  },
  {
   "cell_type": "code",
   "execution_count": 34,
   "id": "ab64c14e-34e3-4c87-8bec-fb8d084b73e3",
   "metadata": {},
   "outputs": [
    {
     "name": "stdout",
     "output_type": "stream",
     "text": [
      "ACGT\n"
     ]
    }
   ],
   "source": [
    "longest_common_substring('ACGTGGAAAGCCA', 'GTACACACGTTTTGAGAGACAC')"
   ]
  },
  {
   "cell_type": "code",
   "execution_count": null,
   "id": "679ee22f-72df-4db4-ba96-a76c65c454ba",
   "metadata": {},
   "outputs": [],
   "source": []
  }
 ],
 "metadata": {
  "kernelspec": {
   "display_name": "Python 3 (ipykernel)",
   "language": "python",
   "name": "python3"
  },
  "language_info": {
   "codemirror_mode": {
    "name": "ipython",
    "version": 3
   },
   "file_extension": ".py",
   "mimetype": "text/x-python",
   "name": "python",
   "nbconvert_exporter": "python",
   "pygments_lexer": "ipython3",
   "version": "3.9.12"
  }
 },
 "nbformat": 4,
 "nbformat_minor": 5
}
