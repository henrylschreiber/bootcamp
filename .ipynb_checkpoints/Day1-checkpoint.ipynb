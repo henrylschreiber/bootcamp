{
 "cells": [
  {
   "cell_type": "code",
   "execution_count": 1,
   "id": "f15fc799-8356-4cc2-93bd-0e64b009c38c",
   "metadata": {},
   "outputs": [
    {
     "data": {
      "text/plain": [
       "int"
      ]
     },
     "execution_count": 1,
     "metadata": {},
     "output_type": "execute_result"
    }
   ],
   "source": [
    "type(2)"
   ]
  },
  {
   "cell_type": "code",
   "execution_count": 2,
   "id": "5630e09b-0091-42b2-a589-1112335764ae",
   "metadata": {},
   "outputs": [
    {
     "data": {
      "text/plain": [
       "float"
      ]
     },
     "execution_count": 2,
     "metadata": {},
     "output_type": "execute_result"
    }
   ],
   "source": [
    "type(2.3)"
   ]
  },
  {
   "cell_type": "code",
   "execution_count": 3,
   "id": "c8663557-b852-4591-9f50-e1a8c8f513a8",
   "metadata": {},
   "outputs": [
    {
     "data": {
      "text/plain": [
       "str"
      ]
     },
     "execution_count": 3,
     "metadata": {},
     "output_type": "execute_result"
    }
   ],
   "source": [
    "type('hello, world.')"
   ]
  },
  {
   "cell_type": "code",
   "execution_count": 4,
   "id": "d9f65113-4ccc-45f1-81fc-43ecfac3e95b",
   "metadata": {},
   "outputs": [
    {
     "data": {
      "text/plain": [
       "float"
      ]
     },
     "execution_count": 4,
     "metadata": {},
     "output_type": "execute_result"
    }
   ],
   "source": [
    "type(6.022e23)"
   ]
  },
  {
   "cell_type": "code",
   "execution_count": 5,
   "id": "cca5a4d9-7b2c-4b14-b7db-847555b3adaa",
   "metadata": {},
   "outputs": [
    {
     "data": {
      "text/plain": [
       "float"
      ]
     },
     "execution_count": 5,
     "metadata": {},
     "output_type": "execute_result"
    }
   ],
   "source": [
    "type(1.38e-23)"
   ]
  },
  {
   "cell_type": "code",
   "execution_count": 6,
   "id": "532f0b42-12d5-4f9d-9cb5-eec026592cd6",
   "metadata": {},
   "outputs": [
    {
     "data": {
      "text/plain": [
       "'hello'"
      ]
     },
     "execution_count": 6,
     "metadata": {},
     "output_type": "execute_result"
    }
   ],
   "source": [
    "'hello'"
   ]
  },
  {
   "cell_type": "code",
   "execution_count": 7,
   "id": "f62d7e66-84a8-4547-be99-c8fd08c2a86b",
   "metadata": {},
   "outputs": [
    {
     "data": {
      "text/plain": [
       "'hello'"
      ]
     },
     "execution_count": 7,
     "metadata": {},
     "output_type": "execute_result"
    }
   ],
   "source": [
    "\"hello\""
   ]
  },
  {
   "cell_type": "code",
   "execution_count": 8,
   "id": "03f0390a-cc0d-4df7-8998-1403576f8174",
   "metadata": {},
   "outputs": [
    {
     "data": {
      "text/plain": [
       "'hello'"
      ]
     },
     "execution_count": 8,
     "metadata": {},
     "output_type": "execute_result"
    }
   ],
   "source": [
    "\"\"\"hello\"\"\""
   ]
  },
  {
   "cell_type": "code",
   "execution_count": 9,
   "id": "a3ae6d1d-8c47-40d2-8ffc-ca41c42da219",
   "metadata": {},
   "outputs": [
    {
     "ename": "SyntaxError",
     "evalue": "invalid syntax (4173396712.py, line 1)",
     "output_type": "error",
     "traceback": [
      "\u001b[0;36m  Input \u001b[0;32mIn [9]\u001b[0;36m\u001b[0m\n\u001b[0;31m    ''hello''\u001b[0m\n\u001b[0m      ^\u001b[0m\n\u001b[0;31mSyntaxError\u001b[0m\u001b[0;31m:\u001b[0m invalid syntax\n"
     ]
    }
   ],
   "source": [
    "''hello''"
   ]
  },
  {
   "cell_type": "code",
   "execution_count": 10,
   "id": "1497a1cf-fb6b-4c62-9503-f5398f95cc0c",
   "metadata": {},
   "outputs": [
    {
     "name": "stdout",
     "output_type": "stream",
     "text": [
      "With the lights out,\n",
      "it's less dangerous.\n"
     ]
    }
   ],
   "source": [
    "my_str = \"\"\"With the lights out,\n",
    "it's less dangerous.\"\"\"\n",
    "\n",
    "print(my_str)"
   ]
  },
  {
   "cell_type": "code",
   "execution_count": 11,
   "id": "05ad5d14-cfc7-424d-8d9b-856aa75bb61a",
   "metadata": {},
   "outputs": [
    {
     "data": {
      "text/plain": [
       "11"
      ]
     },
     "execution_count": 11,
     "metadata": {},
     "output_type": "execute_result"
    }
   ],
   "source": [
    "5 + 6"
   ]
  },
  {
   "cell_type": "code",
   "execution_count": 12,
   "id": "7e7b373c-980d-4b87-aca9-c24d6066a382",
   "metadata": {},
   "outputs": [
    {
     "data": {
      "text/plain": [
       "8"
      ]
     },
     "execution_count": 12,
     "metadata": {},
     "output_type": "execute_result"
    }
   ],
   "source": [
    "2**3"
   ]
  },
  {
   "cell_type": "code",
   "execution_count": 13,
   "id": "47712026-cef8-4fe2-a2e7-05e1c0b39c89",
   "metadata": {},
   "outputs": [
    {
     "data": {
      "text/plain": [
       "2"
      ]
     },
     "execution_count": 13,
     "metadata": {},
     "output_type": "execute_result"
    }
   ],
   "source": [
    "2 % 3"
   ]
  },
  {
   "cell_type": "code",
   "execution_count": 14,
   "id": "64ce5d8c-4792-4cdc-ba40-b1ee9a09e901",
   "metadata": {},
   "outputs": [
    {
     "data": {
      "text/plain": [
       "5.300000000000001"
      ]
     },
     "execution_count": 14,
     "metadata": {},
     "output_type": "execute_result"
    }
   ],
   "source": [
    "2.1 + 3.2"
   ]
  },
  {
   "cell_type": "code",
   "execution_count": 15,
   "id": "b4121bd0-036f-4bfb-969a-52b936da2b1f",
   "metadata": {},
   "outputs": [
    {
     "data": {
      "text/plain": [
       "-8.881784197001252e-16"
      ]
     },
     "execution_count": 15,
     "metadata": {},
     "output_type": "execute_result"
    }
   ],
   "source": [
    "5.3 - (2.1 + 3.2)"
   ]
  },
  {
   "cell_type": "code",
   "execution_count": 18,
   "id": "d251a3ae-5eae-411f-9dd0-3d1fcef34ecd",
   "metadata": {},
   "outputs": [
    {
     "data": {
      "text/plain": [
       "3.0"
      ]
     },
     "execution_count": 18,
     "metadata": {},
     "output_type": "execute_result"
    }
   ],
   "source": [
    "6.0// 2.0"
   ]
  },
  {
   "cell_type": "code",
   "execution_count": 20,
   "id": "51379392-6f2a-4118-ba74-c541c8b5f8e5",
   "metadata": {},
   "outputs": [
    {
     "data": {
      "text/plain": [
       "'Hello, world'"
      ]
     },
     "execution_count": 20,
     "metadata": {},
     "output_type": "execute_result"
    }
   ],
   "source": [
    "'Hello, ' + 'world'"
   ]
  },
  {
   "cell_type": "code",
   "execution_count": 21,
   "id": "dbf6b5d3-89cb-4ce0-9912-ddae8e800476",
   "metadata": {},
   "outputs": [
    {
     "data": {
      "text/plain": [
       "'424242'"
      ]
     },
     "execution_count": 21,
     "metadata": {},
     "output_type": "execute_result"
    }
   ],
   "source": [
    "'42' * 3"
   ]
  },
  {
   "cell_type": "code",
   "execution_count": 22,
   "id": "29dd33ee-4144-421c-8337-deccc3b1a246",
   "metadata": {},
   "outputs": [
    {
     "data": {
      "text/plain": [
       "36"
      ]
     },
     "execution_count": 22,
     "metadata": {},
     "output_type": "execute_result"
    }
   ],
   "source": [
    "1**3 + 2**3 + 3**3"
   ]
  },
  {
   "cell_type": "code",
   "execution_count": 23,
   "id": "7ba15215-bccb-4ba9-915d-2421b1467cb9",
   "metadata": {},
   "outputs": [
    {
     "data": {
      "text/plain": [
       "36"
      ]
     },
     "execution_count": 23,
     "metadata": {},
     "output_type": "execute_result"
    }
   ],
   "source": [
    "(1+2+3)**2"
   ]
  },
  {
   "cell_type": "code",
   "execution_count": 24,
   "id": "d1847901-a38f-4bf5-9523-2c78772c18ca",
   "metadata": {},
   "outputs": [],
   "source": [
    "a = 2"
   ]
  },
  {
   "cell_type": "code",
   "execution_count": 25,
   "id": "be0a9310-1e83-468f-afd1-c31473712116",
   "metadata": {},
   "outputs": [],
   "source": [
    "a += 4"
   ]
  },
  {
   "cell_type": "code",
   "execution_count": 26,
   "id": "7793605f-512f-4a9a-b0a8-6b7ef73912be",
   "metadata": {},
   "outputs": [],
   "source": [
    "a **= 2"
   ]
  },
  {
   "cell_type": "code",
   "execution_count": 27,
   "id": "cbb89844-72f7-4c9c-8266-5f92c35d5532",
   "metadata": {},
   "outputs": [
    {
     "data": {
      "text/plain": [
       "36"
      ]
     },
     "execution_count": 27,
     "metadata": {},
     "output_type": "execute_result"
    }
   ],
   "source": [
    "a"
   ]
  },
  {
   "cell_type": "code",
   "execution_count": 28,
   "id": "73d1260f-15af-40c1-990e-d0aac07b77ed",
   "metadata": {},
   "outputs": [
    {
     "data": {
      "text/plain": [
       "False"
      ]
     },
     "execution_count": 28,
     "metadata": {},
     "output_type": "execute_result"
    }
   ],
   "source": [
    "5 == 4"
   ]
  },
  {
   "cell_type": "code",
   "execution_count": 29,
   "id": "9b36b1ac-b736-44d9-b4b9-48fd6785283f",
   "metadata": {},
   "outputs": [
    {
     "data": {
      "text/plain": [
       "True"
      ]
     },
     "execution_count": 29,
     "metadata": {},
     "output_type": "execute_result"
    }
   ],
   "source": [
    "a == 36"
   ]
  },
  {
   "cell_type": "code",
   "execution_count": 30,
   "id": "afa2f291-b521-4a2b-bd97-aa8d108aaf98",
   "metadata": {},
   "outputs": [
    {
     "data": {
      "text/plain": [
       "bool"
      ]
     },
     "execution_count": 30,
     "metadata": {},
     "output_type": "execute_result"
    }
   ],
   "source": [
    "type(True)"
   ]
  },
  {
   "cell_type": "code",
   "execution_count": 31,
   "id": "189d006b-0d79-4432-a25c-9dd076d6fc02",
   "metadata": {},
   "outputs": [
    {
     "data": {
      "text/plain": [
       "True"
      ]
     },
     "execution_count": 31,
     "metadata": {},
     "output_type": "execute_result"
    }
   ],
   "source": [
    "3.00000001 > 3.0"
   ]
  },
  {
   "cell_type": "code",
   "execution_count": 32,
   "id": "c5b5a7bb-2d70-4f8c-9252-f9b0aa008e51",
   "metadata": {},
   "outputs": [
    {
     "data": {
      "text/plain": [
       "False"
      ]
     },
     "execution_count": 32,
     "metadata": {},
     "output_type": "execute_result"
    }
   ],
   "source": [
    "3.00000000000000001 > 3.000000000000000\n"
   ]
  },
  {
   "cell_type": "code",
   "execution_count": 33,
   "id": "8b93cd77-3930-4ece-accd-8363edec2090",
   "metadata": {},
   "outputs": [
    {
     "data": {
      "text/plain": [
       "True"
      ]
     },
     "execution_count": 33,
     "metadata": {},
     "output_type": "execute_result"
    }
   ],
   "source": [
    "'michael jordan' > 'lebron james'"
   ]
  },
  {
   "cell_type": "code",
   "execution_count": 34,
   "id": "41e4f103-7780-4140-9f4e-4e2bd7c2fab5",
   "metadata": {},
   "outputs": [
    {
     "data": {
      "text/plain": [
       "False"
      ]
     },
     "execution_count": 34,
     "metadata": {},
     "output_type": "execute_result"
    }
   ],
   "source": [
    "'lebron' == 'lebron james'"
   ]
  },
  {
   "cell_type": "code",
   "execution_count": 35,
   "id": "b699f563-d2c1-42a7-8ebd-a0366b5a444f",
   "metadata": {},
   "outputs": [
    {
     "name": "stderr",
     "output_type": "stream",
     "text": [
      "<>:1: SyntaxWarning: \"is\" with a literal. Did you mean \"==\"?\n",
      "<>:1: SyntaxWarning: \"is\" with a literal. Did you mean \"==\"?\n",
      "/var/folders/g6/vgd7cj3j7mg23lwnr_f357_r0000gn/T/ipykernel_12842/4112154329.py:1: SyntaxWarning: \"is\" with a literal. Did you mean \"==\"?\n",
      "  a is 36\n"
     ]
    },
    {
     "data": {
      "text/plain": [
       "True"
      ]
     },
     "execution_count": 35,
     "metadata": {},
     "output_type": "execute_result"
    }
   ],
   "source": [
    "a is 36"
   ]
  },
  {
   "cell_type": "code",
   "execution_count": 36,
   "id": "2ceefc3f-c453-4031-ac8d-8e076b03ebbc",
   "metadata": {},
   "outputs": [
    {
     "name": "stderr",
     "output_type": "stream",
     "text": [
      "<>:1: SyntaxWarning: \"is\" with a literal. Did you mean \"==\"?\n",
      "<>:1: SyntaxWarning: \"is\" with a literal. Did you mean \"==\"?\n",
      "/var/folders/g6/vgd7cj3j7mg23lwnr_f357_r0000gn/T/ipykernel_12842/4112154329.py:1: SyntaxWarning: \"is\" with a literal. Did you mean \"==\"?\n",
      "  a is 36\n"
     ]
    },
    {
     "data": {
      "text/plain": [
       "True"
      ]
     },
     "execution_count": 36,
     "metadata": {},
     "output_type": "execute_result"
    }
   ],
   "source": [
    "a is 36"
   ]
  },
  {
   "cell_type": "code",
   "execution_count": 37,
   "id": "43780474-ab06-4b7e-be6c-c094dcfa8868",
   "metadata": {},
   "outputs": [
    {
     "data": {
      "text/plain": [
       "False"
      ]
     },
     "execution_count": 37,
     "metadata": {},
     "output_type": "execute_result"
    }
   ],
   "source": [
    "a = 5.6\n",
    "b = 5.6\n",
    "\n",
    "a is b"
   ]
  },
  {
   "cell_type": "code",
   "execution_count": 38,
   "id": "062cb8c5-ca7b-4806-9088-188352c80bf6",
   "metadata": {},
   "outputs": [
    {
     "data": {
      "text/plain": [
       "True"
      ]
     },
     "execution_count": 38,
     "metadata": {},
     "output_type": "execute_result"
    }
   ],
   "source": [
    "a = 5.6\n",
    "b = a\n",
    "a is b"
   ]
  },
  {
   "cell_type": "code",
   "execution_count": 39,
   "id": "b2def9cd-753b-4400-978f-a6d07a0433bb",
   "metadata": {},
   "outputs": [
    {
     "ename": "SyntaxError",
     "evalue": "invalid syntax (210367242.py, line 1)",
     "output_type": "error",
     "traceback": [
      "\u001b[0;36m  Input \u001b[0;32mIn [39]\u001b[0;36m\u001b[0m\n\u001b[0;31m    type(is)\u001b[0m\n\u001b[0m         ^\u001b[0m\n\u001b[0;31mSyntaxError\u001b[0m\u001b[0;31m:\u001b[0m invalid syntax\n"
     ]
    }
   ],
   "source": [
    "type(is)"
   ]
  },
  {
   "cell_type": "code",
   "execution_count": 40,
   "id": "a2f1d72c-1abe-4165-86de-4c01c917445e",
   "metadata": {},
   "outputs": [
    {
     "data": {
      "text/plain": [
       "False"
      ]
     },
     "execution_count": 40,
     "metadata": {},
     "output_type": "execute_result"
    }
   ],
   "source": [
    "a = 5.6\n",
    "b = a\n",
    "a = 6.1\n",
    "a is b"
   ]
  },
  {
   "cell_type": "code",
   "execution_count": 41,
   "id": "4a2c0afe-9ac8-49cc-9139-8ef069d2ed0c",
   "metadata": {},
   "outputs": [
    {
     "data": {
      "text/plain": [
       "True"
      ]
     },
     "execution_count": 41,
     "metadata": {},
     "output_type": "execute_result"
    }
   ],
   "source": [
    "a = 5\n",
    "b = 5\n",
    "\n",
    "a == b"
   ]
  },
  {
   "cell_type": "code",
   "execution_count": 42,
   "id": "55a4fbac-89a5-4461-840c-56b4610246b8",
   "metadata": {},
   "outputs": [
    {
     "data": {
      "text/plain": [
       "True"
      ]
     },
     "execution_count": 42,
     "metadata": {},
     "output_type": "execute_result"
    }
   ],
   "source": [
    "a is b"
   ]
  },
  {
   "cell_type": "code",
   "execution_count": 43,
   "id": "c2934dd3-ea89-4f25-94dc-e4c96d962820",
   "metadata": {},
   "outputs": [
    {
     "data": {
      "text/plain": [
       "True"
      ]
     },
     "execution_count": 43,
     "metadata": {},
     "output_type": "execute_result"
    }
   ],
   "source": [
    "a = 'hello, world.'\n",
    "b = 'hello, world.'\n",
    "\n",
    "a == b"
   ]
  },
  {
   "cell_type": "code",
   "execution_count": 44,
   "id": "31c423f9-0792-406e-bd44-fcaf7e3bc9a8",
   "metadata": {},
   "outputs": [
    {
     "data": {
      "text/plain": [
       "False"
      ]
     },
     "execution_count": 44,
     "metadata": {},
     "output_type": "execute_result"
    }
   ],
   "source": [
    "a is b"
   ]
  },
  {
   "cell_type": "code",
   "execution_count": 45,
   "id": "8dbb06ec-aecc-4222-a665-020140fdf680",
   "metadata": {},
   "outputs": [
    {
     "data": {
      "text/plain": [
       "True"
      ]
     },
     "execution_count": 45,
     "metadata": {},
     "output_type": "execute_result"
    }
   ],
   "source": [
    "a = 'python'\n",
    "b = 'python'\n",
    "\n",
    "a == b"
   ]
  },
  {
   "cell_type": "code",
   "execution_count": 46,
   "id": "c816e24c-b70f-4f81-93d4-2899a4d19089",
   "metadata": {},
   "outputs": [
    {
     "data": {
      "text/plain": [
       "True"
      ]
     },
     "execution_count": 46,
     "metadata": {},
     "output_type": "execute_result"
    }
   ],
   "source": [
    "a is b"
   ]
  },
  {
   "cell_type": "code",
   "execution_count": 47,
   "id": "03bbc816-1bac-43f3-bf72-423ecb13a2bd",
   "metadata": {},
   "outputs": [
    {
     "data": {
      "text/plain": [
       "2"
      ]
     },
     "execution_count": 47,
     "metadata": {},
     "output_type": "execute_result"
    }
   ],
   "source": [
    "True + True"
   ]
  },
  {
   "cell_type": "code",
   "execution_count": 48,
   "id": "52d9efdb-ed35-43e3-8279-4e6d538b7507",
   "metadata": {},
   "outputs": [
    {
     "ename": "ZeroDivisionError",
     "evalue": "division by zero",
     "output_type": "error",
     "traceback": [
      "\u001b[0;31m---------------------------------------------------------------------------\u001b[0m",
      "\u001b[0;31mZeroDivisionError\u001b[0m                         Traceback (most recent call last)",
      "Input \u001b[0;32mIn [48]\u001b[0m, in \u001b[0;36m<cell line: 1>\u001b[0;34m()\u001b[0m\n\u001b[0;32m----> 1\u001b[0m \u001b[38;5;28;01mTrue\u001b[39;00m \u001b[38;5;241m+\u001b[39m \u001b[38;5;28;43;01mTrue\u001b[39;49;00m\u001b[43m \u001b[49m\u001b[38;5;241;43m/\u001b[39;49m\u001b[43m \u001b[49m\u001b[38;5;28;43;01mFalse\u001b[39;49;00m\n",
      "\u001b[0;31mZeroDivisionError\u001b[0m: division by zero"
     ]
    }
   ],
   "source": [
    "True + True / False"
   ]
  },
  {
   "cell_type": "markdown",
   "id": "9a971955-3a1a-4ba0-a26a-a1e6ab00b85d",
   "metadata": {},
   "source": [
    "if something is true:\n",
    "    do task a\n",
    "otherwise:\n",
    "    do task b"
   ]
  },
  {
   "cell_type": "code",
   "execution_count": 53,
   "id": "d64ef81a-48b3-4cc5-839f-d80372f5ec70",
   "metadata": {},
   "outputs": [
    {
     "name": "stdout",
     "output_type": "stream",
     "text": [
      "This is the start codon.\n"
     ]
    }
   ],
   "source": [
    "codon = 'AUG'\n",
    "\n",
    "if codon == 'AUG':\n",
    "    print('This is the start codon.')\n",
    "else:\n",
    "    print('This is not the start codon.')"
   ]
  },
  {
   "cell_type": "code",
   "execution_count": 54,
   "id": "b7d0b929-d95e-4d58-9e40-b5ab59017812",
   "metadata": {},
   "outputs": [
    {
     "name": "stdout",
     "output_type": "stream",
     "text": [
      "This is the start codon.\n",
      "Still indented, so I'm going to print this!\n"
     ]
    }
   ],
   "source": [
    "codon = 'AUG'\n",
    "\n",
    "if codon == 'AUG':\n",
    "    print('This is the start codon.')\n",
    "    print(\"Still indented, so I'm going to print this!\")\n",
    "else:\n",
    "    print('This is not the start codon.')"
   ]
  },
  {
   "cell_type": "code",
   "execution_count": 56,
   "id": "44e77996-64d8-43ad-9646-5e5fde4a6bb7",
   "metadata": {},
   "outputs": [
    {
     "name": "stdout",
     "output_type": "stream",
     "text": [
      "This is a stop codon.\n"
     ]
    }
   ],
   "source": [
    "codon = 'UAG'\n",
    "\n",
    "if codon == 'AUG':\n",
    "    print('This is the start codon.')\n",
    "    \n",
    "elif codon == 'UAG' or codon == 'UAA' or codon == 'UGA':\n",
    "    print('This is a stop codon.')\n",
    "else:\n",
    "    print('This is neither a stop nor the start codon.')\n"
   ]
  },
  {
   "cell_type": "code",
   "execution_count": 58,
   "id": "b6142dec-ebb5-4c3b-b923-3a44469dcec4",
   "metadata": {},
   "outputs": [],
   "source": [
    "my_list = [1,2,3,4]"
   ]
  },
  {
   "cell_type": "code",
   "execution_count": 59,
   "id": "2f9cdfdf-eda3-42cf-b7da-74a772fe43fc",
   "metadata": {},
   "outputs": [],
   "source": [
    "my_list = [1,2.4,'a string', ['a string in another list', 5]]"
   ]
  },
  {
   "cell_type": "code",
   "execution_count": 62,
   "id": "0b915cdb-b301-4784-8392-041c9e3ad38d",
   "metadata": {},
   "outputs": [
    {
     "data": {
      "text/plain": [
       "['A', ' ', 's', 't', 'r', 'i', 'n', 'g']"
      ]
     },
     "execution_count": 62,
     "metadata": {},
     "output_type": "execute_result"
    }
   ],
   "source": [
    "my_str = 'A string'\n",
    "list(my_str)"
   ]
  },
  {
   "cell_type": "code",
   "execution_count": 63,
   "id": "f738eda5-e5fa-4f40-b1db-f34275e76b6e",
   "metadata": {},
   "outputs": [
    {
     "data": {
      "text/plain": [
       "[1, 2, 3, 4, 5, 6]"
      ]
     },
     "execution_count": 63,
     "metadata": {},
     "output_type": "execute_result"
    }
   ],
   "source": [
    "[1,2,3] + [4,5,6]"
   ]
  },
  {
   "cell_type": "code",
   "execution_count": 64,
   "id": "efcb72a7-c760-43b3-92ab-b6509b61fe40",
   "metadata": {},
   "outputs": [
    {
     "data": {
      "text/plain": [
       "[1, 2, 3, 1, 2, 3, 1, 2, 3]"
      ]
     },
     "execution_count": 64,
     "metadata": {},
     "output_type": "execute_result"
    }
   ],
   "source": [
    "[1,2,3] *3"
   ]
  },
  {
   "cell_type": "code",
   "execution_count": 68,
   "id": "3a23c6a6-f729-4588-ab01-6f23aebcedbf",
   "metadata": {},
   "outputs": [
    {
     "data": {
      "text/plain": [
       "True"
      ]
     },
     "execution_count": 68,
     "metadata": {},
     "output_type": "execute_result"
    }
   ],
   "source": [
    "my_list1 = [1,2,3,4]\n",
    "my_list2 = [1,2.4,'a string', ['a string in another list', 5]]\n",
    "\n",
    "1 in my_list2"
   ]
  },
  {
   "cell_type": "code",
   "execution_count": 69,
   "id": "f3d66db8-6395-4027-b555-9134036d3b62",
   "metadata": {},
   "outputs": [
    {
     "data": {
      "text/plain": [
       "False"
      ]
     },
     "execution_count": 69,
     "metadata": {},
     "output_type": "execute_result"
    }
   ],
   "source": [
    "5 in my_list2"
   ]
  },
  {
   "cell_type": "markdown",
   "id": "38bbe1ae-66c3-4c56-a428-9d090159b09a",
   "metadata": {},
   "source": [
    "This is because 5 is in a list within my_list2."
   ]
  },
  {
   "cell_type": "code",
   "execution_count": 70,
   "id": "ea501128-2063-4e36-88ea-e73a2565c524",
   "metadata": {},
   "outputs": [
    {
     "data": {
      "text/plain": [
       "True"
      ]
     },
     "execution_count": 70,
     "metadata": {},
     "output_type": "execute_result"
    }
   ],
   "source": [
    "5 not in my_list2"
   ]
  },
  {
   "cell_type": "code",
   "execution_count": 74,
   "id": "5b69377f-4113-4677-ac49-4ea4e86a1aa2",
   "metadata": {},
   "outputs": [
    {
     "name": "stdout",
     "output_type": "stream",
     "text": [
      "This is a stop codon.\n"
     ]
    }
   ],
   "source": [
    "codon = 'UAG'\n",
    "#Make a list of stop codons\n",
    "stop_codons = ['UAG','UAA','UGA']\n",
    "\n",
    "if codon == 'AUG':\n",
    "    print('This is the start codon.')\n",
    "    \n",
    "elif codon in stop_codons:\n",
    "    print('This is a stop codon.')\n",
    "    \n",
    "else:\n",
    "    print('This is neither a stop nor the start codon.')"
   ]
  },
  {
   "cell_type": "code",
   "execution_count": 75,
   "id": "6421fb6c-aa3f-4bfd-a59c-948b2b9395d2",
   "metadata": {},
   "outputs": [],
   "source": [
    "my_list = my_list2"
   ]
  },
  {
   "cell_type": "code",
   "execution_count": 76,
   "id": "7344f721-78a4-4612-8c01-c4569a1b8f30",
   "metadata": {},
   "outputs": [
    {
     "data": {
      "text/plain": [
       "[1, 2.4, 'a string', ['a string in another list', 5]]"
      ]
     },
     "execution_count": 76,
     "metadata": {},
     "output_type": "execute_result"
    }
   ],
   "source": [
    "my_list"
   ]
  },
  {
   "cell_type": "code",
   "execution_count": 78,
   "id": "af28f183-a1ed-4563-9315-79ee7bd879f8",
   "metadata": {},
   "outputs": [
    {
     "data": {
      "text/plain": [
       "2.4"
      ]
     },
     "execution_count": 78,
     "metadata": {},
     "output_type": "execute_result"
    }
   ],
   "source": [
    "my_list[1]"
   ]
  },
  {
   "cell_type": "code",
   "execution_count": 79,
   "id": "379c2813-a059-46b1-83db-9d952ae3ce4f",
   "metadata": {},
   "outputs": [],
   "source": [
    "my_list = [0,1,2,3,4,5,6,7,8,9,10]"
   ]
  },
  {
   "cell_type": "code",
   "execution_count": 80,
   "id": "a9ebb81f-ea7b-4d2a-80e0-7e355ecdbcf4",
   "metadata": {},
   "outputs": [
    {
     "data": {
      "text/plain": [
       "4"
      ]
     },
     "execution_count": 80,
     "metadata": {},
     "output_type": "execute_result"
    }
   ],
   "source": [
    "my_list[4]"
   ]
  },
  {
   "cell_type": "code",
   "execution_count": 81,
   "id": "0f235df0-a80e-4994-a178-c44a68877f81",
   "metadata": {},
   "outputs": [
    {
     "data": {
      "text/plain": [
       "10"
      ]
     },
     "execution_count": 81,
     "metadata": {},
     "output_type": "execute_result"
    }
   ],
   "source": [
    "my_list[-1]"
   ]
  },
  {
   "cell_type": "code",
   "execution_count": 82,
   "id": "cf5a3685-1cea-4adf-8f7b-2dd8fa5e5949",
   "metadata": {},
   "outputs": [
    {
     "data": {
      "text/plain": [
       "[0, 1, 2, 3, 4]"
      ]
     },
     "execution_count": 82,
     "metadata": {},
     "output_type": "execute_result"
    }
   ],
   "source": [
    "my_list[0:5]"
   ]
  },
  {
   "cell_type": "code",
   "execution_count": 83,
   "id": "43e19955-f687-4e81-8e9f-96eb766cf6db",
   "metadata": {},
   "outputs": [
    {
     "data": {
      "text/plain": [
       "[3, 4, 5, 6, 7, 8, 9, 10]"
      ]
     },
     "execution_count": 83,
     "metadata": {},
     "output_type": "execute_result"
    }
   ],
   "source": [
    "my_list[3:1000]"
   ]
  },
  {
   "cell_type": "code",
   "execution_count": 86,
   "id": "aa0e107e-ac6a-412c-a51b-50d0b9955dad",
   "metadata": {},
   "outputs": [
    {
     "data": {
      "text/plain": [
       "[0, 1, 2, 3, 4, 5, 6, 7]"
      ]
     },
     "execution_count": 86,
     "metadata": {},
     "output_type": "execute_result"
    }
   ],
   "source": [
    "my_list[0:-3]"
   ]
  },
  {
   "cell_type": "code",
   "execution_count": 87,
   "id": "69e2ed1a-11cf-4c6e-8dd0-8b8fa783490f",
   "metadata": {},
   "outputs": [
    {
     "data": {
      "text/plain": [
       "[0, 2, 4, 6, 8, 10]"
      ]
     },
     "execution_count": 87,
     "metadata": {},
     "output_type": "execute_result"
    }
   ],
   "source": [
    "my_list[0::2]"
   ]
  },
  {
   "cell_type": "code",
   "execution_count": 88,
   "id": "4ecf2cad-a5e8-4c57-8fb8-4f4b76cf6e34",
   "metadata": {},
   "outputs": [
    {
     "data": {
      "text/plain": [
       "[2, 4, 6, 8, 10]"
      ]
     },
     "execution_count": 88,
     "metadata": {},
     "output_type": "execute_result"
    }
   ],
   "source": [
    "my_list[2::2]"
   ]
  },
  {
   "cell_type": "code",
   "execution_count": 90,
   "id": "abd697c5-601d-4648-a470-3b9cd9416676",
   "metadata": {},
   "outputs": [
    {
     "data": {
      "text/plain": [
       "[2, 4, 6, 8]"
      ]
     },
     "execution_count": 90,
     "metadata": {},
     "output_type": "execute_result"
    }
   ],
   "source": [
    "evens = my_list [::2]\n",
    "evens_without_end_values = evens[1:-1]\n",
    "evens_without_end_values"
   ]
  },
  {
   "cell_type": "code",
   "execution_count": 91,
   "id": "49a8366b-1898-4f85-bd81-c091b4ee9498",
   "metadata": {},
   "outputs": [
    {
     "data": {
      "text/plain": [
       "[0, 1, 2, 3, 4, 5, 6, 7, 8, 9, 10]"
      ]
     },
     "execution_count": 91,
     "metadata": {},
     "output_type": "execute_result"
    }
   ],
   "source": [
    "my_list"
   ]
  },
  {
   "cell_type": "code",
   "execution_count": 93,
   "id": "3e5bc4c9-6db0-4168-bf04-31a7e551b515",
   "metadata": {},
   "outputs": [],
   "source": [
    "my_list[5] = 'five'"
   ]
  },
  {
   "cell_type": "code",
   "execution_count": 94,
   "id": "5d715e6b-c68f-47ba-837d-b76dba5b41c7",
   "metadata": {},
   "outputs": [
    {
     "data": {
      "text/plain": [
       "[0, 1, 2, 3, 4, 'five', 6, 7, 8, 9, 10]"
      ]
     },
     "execution_count": 94,
     "metadata": {},
     "output_type": "execute_result"
    }
   ],
   "source": [
    "my_list"
   ]
  },
  {
   "cell_type": "code",
   "execution_count": 95,
   "id": "a37b355e-cfaf-4680-969e-168cf297c0c0",
   "metadata": {},
   "outputs": [],
   "source": [
    "my_list = [0,1,2,3,4,5,6,7,8,9,10]"
   ]
  },
  {
   "cell_type": "code",
   "execution_count": 96,
   "id": "a2f1987d-5854-40cb-a2df-06728168d2e5",
   "metadata": {},
   "outputs": [
    {
     "data": {
      "text/plain": [
       "140224422911424"
      ]
     },
     "execution_count": 96,
     "metadata": {},
     "output_type": "execute_result"
    }
   ],
   "source": [
    "id(my_list)"
   ]
  },
  {
   "cell_type": "code",
   "execution_count": 97,
   "id": "42de5889-c8e5-4787-a6ea-8c6a0d31e8f3",
   "metadata": {},
   "outputs": [],
   "source": [
    "my_list[5] = 'five'"
   ]
  },
  {
   "cell_type": "code",
   "execution_count": 98,
   "id": "d6b41b8f-c5cb-4d03-bdc6-a8c2064487ad",
   "metadata": {},
   "outputs": [
    {
     "data": {
      "text/plain": [
       "140224422911424"
      ]
     },
     "execution_count": 98,
     "metadata": {},
     "output_type": "execute_result"
    }
   ],
   "source": [
    "id(my_list)"
   ]
  },
  {
   "cell_type": "code",
   "execution_count": 99,
   "id": "da24a9c2-9f6f-4297-a29a-1cee150de8fd",
   "metadata": {},
   "outputs": [
    {
     "data": {
      "text/plain": [
       "140224423047888"
      ]
     },
     "execution_count": 99,
     "metadata": {},
     "output_type": "execute_result"
    }
   ],
   "source": [
    "a = 689\n",
    "id(a)"
   ]
  },
  {
   "cell_type": "code",
   "execution_count": 100,
   "id": "fd03b005-3917-4338-ad80-a0c9d2534bb5",
   "metadata": {},
   "outputs": [
    {
     "data": {
      "text/plain": [
       "140224423048208"
      ]
     },
     "execution_count": 100,
     "metadata": {},
     "output_type": "execute_result"
    }
   ],
   "source": [
    "a = 690\n",
    "id(a)"
   ]
  },
  {
   "cell_type": "code",
   "execution_count": 101,
   "id": "cfecc307-85d0-4c37-90ba-1bd830e8c339",
   "metadata": {},
   "outputs": [
    {
     "data": {
      "text/plain": [
       "[0, 1, 2, 3, 4, 'five', 6, 7, 8, 9, 10]"
      ]
     },
     "execution_count": 101,
     "metadata": {},
     "output_type": "execute_result"
    }
   ],
   "source": [
    "my_list"
   ]
  },
  {
   "cell_type": "code",
   "execution_count": 102,
   "id": "841d2568-9c8b-43c8-bf3c-1ed2122960c8",
   "metadata": {},
   "outputs": [],
   "source": [
    "my_other_list = my_list"
   ]
  },
  {
   "cell_type": "code",
   "execution_count": 103,
   "id": "a50dad98-3a13-49d6-a2e2-8fc784c55f3d",
   "metadata": {},
   "outputs": [
    {
     "data": {
      "text/plain": [
       "[0, 1, 2, 3, 4, 'five', 6, 7, 8, 9, 10]"
      ]
     },
     "execution_count": 103,
     "metadata": {},
     "output_type": "execute_result"
    }
   ],
   "source": [
    "my_other_list"
   ]
  },
  {
   "cell_type": "code",
   "execution_count": 104,
   "id": "bf65516c-7d25-43d1-95b3-ed2d3559b03a",
   "metadata": {},
   "outputs": [],
   "source": [
    "my_other_list[10] = 'ten'"
   ]
  },
  {
   "cell_type": "code",
   "execution_count": 105,
   "id": "f267b035-2a27-4620-b930-f23e5f79d00a",
   "metadata": {},
   "outputs": [
    {
     "data": {
      "text/plain": [
       "[0, 1, 2, 3, 4, 'five', 6, 7, 8, 9, 'ten']"
      ]
     },
     "execution_count": 105,
     "metadata": {},
     "output_type": "execute_result"
    }
   ],
   "source": [
    "my_other_list"
   ]
  },
  {
   "cell_type": "code",
   "execution_count": 106,
   "id": "ff23d6c5-f56a-4f86-9f62-1096c83e19fb",
   "metadata": {},
   "outputs": [
    {
     "data": {
      "text/plain": [
       "[0, 1, 2, 3, 4, 'five', 6, 7, 8, 9, 'ten']"
      ]
     },
     "execution_count": 106,
     "metadata": {},
     "output_type": "execute_result"
    }
   ],
   "source": [
    "my_list"
   ]
  },
  {
   "cell_type": "markdown",
   "id": "cad9bcba-4907-4778-b9a5-d9f01b0f6620",
   "metadata": {},
   "source": [
    "The original list got affected by changing the \"other\" list. Lists are mutable, so have to be careful when changing variable. Lists that are set to be each other (aliased) are saved in the same ram space. They have the same space, so changing one changes the others."
   ]
  },
  {
   "cell_type": "code",
   "execution_count": 108,
   "id": "d96f922d-08e2-475f-b8ef-556b5ab9d718",
   "metadata": {},
   "outputs": [],
   "source": [
    "my_tuple = (1,2,3,4)"
   ]
  },
  {
   "cell_type": "code",
   "execution_count": 109,
   "id": "f62c2cee-3726-4b09-8ae1-78c1392a0402",
   "metadata": {},
   "outputs": [
    {
     "data": {
      "text/plain": [
       "tuple"
      ]
     },
     "execution_count": 109,
     "metadata": {},
     "output_type": "execute_result"
    }
   ],
   "source": [
    "type(my_tuple)"
   ]
  },
  {
   "cell_type": "code",
   "execution_count": 110,
   "id": "ebe058f5-d68b-435d-a939-f9892150d686",
   "metadata": {},
   "outputs": [
    {
     "ename": "TypeError",
     "evalue": "'tuple' object does not support item assignment",
     "output_type": "error",
     "traceback": [
      "\u001b[0;31m---------------------------------------------------------------------------\u001b[0m",
      "\u001b[0;31mTypeError\u001b[0m                                 Traceback (most recent call last)",
      "Input \u001b[0;32mIn [110]\u001b[0m, in \u001b[0;36m<cell line: 1>\u001b[0;34m()\u001b[0m\n\u001b[0;32m----> 1\u001b[0m my_tuple[\u001b[38;5;241m2\u001b[39m] \u001b[38;5;241m=\u001b[39m \u001b[38;5;124m'\u001b[39m\u001b[38;5;124mthree\u001b[39m\u001b[38;5;124m'\u001b[39m\n",
      "\u001b[0;31mTypeError\u001b[0m: 'tuple' object does not support item assignment"
     ]
    }
   ],
   "source": [
    "my_tuple[2] = 'three'"
   ]
  },
  {
   "cell_type": "markdown",
   "id": "31e38760-7b89-4aba-ac53-f5405ce999fa",
   "metadata": {},
   "source": [
    "Tuples are immutable"
   ]
  },
  {
   "cell_type": "markdown",
   "id": "77639ce4-ef50-4139-98f6-a99a0154e703",
   "metadata": {},
   "source": [
    "Can turn lists into tuple"
   ]
  },
  {
   "cell_type": "code",
   "execution_count": 112,
   "id": "a725326b-b8bc-460e-92a1-d59154a3e2cc",
   "metadata": {},
   "outputs": [
    {
     "name": "stdout",
     "output_type": "stream",
     "text": [
      "1\n",
      "2\n",
      "3\n"
     ]
    }
   ],
   "source": [
    "my_tuple = (1,2,3)\n",
    "a,b,c = my_tuple\n",
    "print(a)\n",
    "print(b)\n",
    "print(c)"
   ]
  },
  {
   "cell_type": "code",
   "execution_count": 113,
   "id": "7955f13e-8e5d-4f53-a92c-f5bb2e5f9559",
   "metadata": {},
   "outputs": [
    {
     "name": "stdout",
     "output_type": "stream",
     "text": [
      "This is a stop codon.\n"
     ]
    }
   ],
   "source": [
    "codon = 'UAG'\n",
    "stop_codons = ('UAG','UAA','UGA')\n",
    "\n",
    "if codon == 'AUG':\n",
    "    print('This is the start codon.')\n",
    "elif codon in stop_codons:\n",
    "    print('This is a stop codon.')\n",
    "else:\n",
    "    print('This is neither a stop nor the start codon.')\n"
   ]
  },
  {
   "cell_type": "code",
   "execution_count": 118,
   "id": "b298614e-2299-42e6-8c00-a72ee8806900",
   "metadata": {},
   "outputs": [
    {
     "data": {
      "text/plain": [
       "0.5909090909090909"
      ]
     },
     "execution_count": 118,
     "metadata": {},
     "output_type": "execute_result"
    }
   ],
   "source": [
    "seq = 'GAGCAGUCGUAUUAAGACGCGGCGCGAUGCGUGCACGCCAUAGU'\n",
    "\n",
    "#Initiale my GC counter\n",
    "n_gc = 0\n",
    "\n",
    "#Intilize sequence length\n",
    "len_seq = 0\n",
    "\n",
    "for base in seq:\n",
    "    len_seq += 1\n",
    "    if base in 'GCgc':\n",
    "        n_gc += 1\n",
    "        \n",
    "n_gc / len(seq)"
   ]
  },
  {
   "cell_type": "code",
   "execution_count": 121,
   "id": "b4457351-218c-4086-a936-5e84f32274ae",
   "metadata": {},
   "outputs": [],
   "source": [
    "my_integers = [1,2,3,4,5]\n",
    "\n",
    "for n in my_integers:\n",
    "    n *= 2"
   ]
  },
  {
   "cell_type": "code",
   "execution_count": 122,
   "id": "e5c332f1-6f85-47d5-8f04-a5f47c6dac9c",
   "metadata": {},
   "outputs": [
    {
     "data": {
      "text/plain": [
       "[1, 2, 3, 4, 5]"
      ]
     },
     "execution_count": 122,
     "metadata": {},
     "output_type": "execute_result"
    }
   ],
   "source": [
    "my_integers"
   ]
  },
  {
   "cell_type": "markdown",
   "id": "c3a969d2-ec13-43df-8b9e-a26db9657f1c",
   "metadata": {},
   "source": [
    "Note that interating through a list with a for loop does not mean you are necessarily changing that list."
   ]
  },
  {
   "cell_type": "code",
   "execution_count": 123,
   "id": "d0c59cec-9e8f-4265-85f1-74c9c14c54c7",
   "metadata": {},
   "outputs": [
    {
     "data": {
      "text/plain": [
       "range(0, 10)"
      ]
     },
     "execution_count": 123,
     "metadata": {},
     "output_type": "execute_result"
    }
   ],
   "source": [
    "range(10)"
   ]
  },
  {
   "cell_type": "code",
   "execution_count": 125,
   "id": "54257f2f-b931-4594-acf8-e32d304b41ef",
   "metadata": {},
   "outputs": [
    {
     "data": {
      "text/plain": [
       "[0, 1, 2, 3, 4, 5, 6, 7, 8, 9]"
      ]
     },
     "execution_count": 125,
     "metadata": {},
     "output_type": "execute_result"
    }
   ],
   "source": [
    "list(range(10))"
   ]
  },
  {
   "cell_type": "markdown",
   "id": "c2c7070e-01f2-4a79-9496-baa0deb2f026",
   "metadata": {},
   "source": [
    "range(start, end, stride).\n",
    "start is inclusive, end is exclusive"
   ]
  },
  {
   "cell_type": "code",
   "execution_count": 129,
   "id": "e15e29dd-be10-4e16-816a-a455a731a1bd",
   "metadata": {},
   "outputs": [],
   "source": [
    "my_integers = [1,2,3,4,5]\n",
    "\n",
    "for i in range(len(my_integers)):\n",
    "    my_integers[i] *= 2\n",
    "    \n",
    "#This is not pythonic."
   ]
  },
  {
   "cell_type": "code",
   "execution_count": 127,
   "id": "acfde620-4d7b-4906-81a4-0afa43cfccf9",
   "metadata": {},
   "outputs": [
    {
     "data": {
      "text/plain": [
       "[2, 4, 6, 8, 10]"
      ]
     },
     "execution_count": 127,
     "metadata": {},
     "output_type": "execute_result"
    }
   ],
   "source": [
    "my_integers"
   ]
  },
  {
   "cell_type": "code",
   "execution_count": 133,
   "id": "a2259989-5b2d-439a-bf63-a6d36baa3a97",
   "metadata": {},
   "outputs": [
    {
     "data": {
      "text/plain": [
       "[1, 4, 9, 16, 25]"
      ]
     },
     "execution_count": 133,
     "metadata": {},
     "output_type": "execute_result"
    }
   ],
   "source": [
    "my_integers = [1,2,3,4,5]\n",
    "\n",
    "for i, _ in enumerate(my_integers):\n",
    "    my_integers[i] **= 2\n",
    "my_integers"
   ]
  },
  {
   "cell_type": "code",
   "execution_count": 134,
   "id": "120826f6-a883-47f1-bb32-2177a72b1cc6",
   "metadata": {},
   "outputs": [
    {
     "name": "stdout",
     "output_type": "stream",
     "text": [
      "19 Dunn D\n",
      "8 Ertz MF\n",
      "16 Lavelle MF\n",
      "15 Rapinoe F\n"
     ]
    }
   ],
   "source": [
    "names = ('Dunn','Ertz','Lavelle','Rapinoe')\n",
    "positions = ('D', 'MF', 'MF', 'F')\n",
    "numbers = (19,8,16,15)\n",
    "\n",
    "for num, pos, name in zip(numbers, positions, names):\n",
    "    print(num, name, pos)"
   ]
  },
  {
   "cell_type": "code",
   "execution_count": 137,
   "id": "fddda9a1-b258-4548-86ac-1a754899d3d0",
   "metadata": {},
   "outputs": [
    {
     "name": "stdout",
     "output_type": "stream",
     "text": [
      "The start codon starts at index 5\n"
     ]
    }
   ],
   "source": [
    "seq = 'ACACGAUGUGCAUCCAUCGAUACGAUCGAUGCAUGCAUCGAUGCUGACGUUAUGCAUGC'\n",
    "start_codon = 'AUG'\n",
    "\n",
    "#Initialize the sequence index\n",
    "i=0\n",
    "\n",
    "#Scan the sequence until I hit the start codon\n",
    "while seq[i:i+3] != start_codon and i < len(seq):\n",
    "    i += 1\n",
    "#the i< len(seq) is meant to prevent an infinite loop. \n",
    "\n",
    "if i == len(seq):\n",
    "    print('Codon not found')\n",
    "else:\n",
    "    print('The start codon starts at index', i)"
   ]
  },
  {
   "cell_type": "markdown",
   "id": "6b678ddf-561f-4ab5-babe-e046abf1a5c3",
   "metadata": {},
   "source": [
    "f(x,y) = x/y"
   ]
  },
  {
   "cell_type": "code",
   "execution_count": 141,
   "id": "6b246534-1522-45a8-975f-aa5ccdebfba6",
   "metadata": {},
   "outputs": [],
   "source": [
    "def ratio(x, y):\n",
    "    \"\"\"The ratio of `x` to `y`\"\"\"\n",
    "    return x / y"
   ]
  },
  {
   "cell_type": "code",
   "execution_count": 140,
   "id": "acfb0873-85ea-4373-bf5d-8a6a34941324",
   "metadata": {},
   "outputs": [
    {
     "data": {
      "text/plain": [
       "2.0"
      ]
     },
     "execution_count": 140,
     "metadata": {},
     "output_type": "execute_result"
    }
   ],
   "source": [
    "ratio(4,2)"
   ]
  },
  {
   "cell_type": "code",
   "execution_count": 142,
   "id": "1616dafb-97af-4c1e-a741-ddf68e0320ed",
   "metadata": {},
   "outputs": [
    {
     "name": "stdout",
     "output_type": "stream",
     "text": [
      "Help on function ratio in module __main__:\n",
      "\n",
      "ratio(x, y)\n",
      "    The ratio of `x` to `y`\n",
      "\n"
     ]
    }
   ],
   "source": [
    "help(ratio)"
   ]
  },
  {
   "cell_type": "code",
   "execution_count": 144,
   "id": "91457ae0-b18b-47fc-a2be-55d9df09f490",
   "metadata": {},
   "outputs": [],
   "source": [
    "def answer_to_the_ultimate_question():\n",
    "    return 42"
   ]
  },
  {
   "cell_type": "code",
   "execution_count": 146,
   "id": "c343e672-6b45-4792-8e6b-e4ed56424d6d",
   "metadata": {},
   "outputs": [
    {
     "data": {
      "text/plain": [
       "42"
      ]
     },
     "execution_count": 146,
     "metadata": {},
     "output_type": "execute_result"
    }
   ],
   "source": [
    "answer_to_the_ultimate_question()"
   ]
  },
  {
   "cell_type": "code",
   "execution_count": 147,
   "id": "5f2585c2-b5cb-4dad-b6bf-0fd873c1c8fd",
   "metadata": {},
   "outputs": [],
   "source": [
    "def trivial():\n",
    "    pass"
   ]
  },
  {
   "cell_type": "code",
   "execution_count": 153,
   "id": "240c8e66-0845-4695-90e2-8d074a333f88",
   "metadata": {},
   "outputs": [
    {
     "name": "stdout",
     "output_type": "stream",
     "text": [
      "None\n"
     ]
    }
   ],
   "source": [
    "print(trivial())"
   ]
  },
  {
   "cell_type": "code",
   "execution_count": 164,
   "id": "c73f3175-2468-48ee-af6e-f7ca6fe528fb",
   "metadata": {},
   "outputs": [],
   "source": [
    "def complement_base(base):\n",
    "    \"\"\"\"Returns the Watson-Crick complement of a base.\"\"\"\n",
    "    if base in 'Aa':\n",
    "        return 'T'\n",
    "    elif base in 'Tt':\n",
    "        return 'A'\n",
    "    elif base in 'Gg':\n",
    "        return 'C'\n",
    "    else:\n",
    "        return 'G'\n",
    "    \n",
    "#This is not a good function because it can't identify errors\n",
    "    \n",
    "def reverse_complement(seq):\n",
    "    \"\"\"Compute the reverse complement of a sequence\"\"\"\n",
    "    #Initialize reverse complement\n",
    "    rev_seq = ''\n",
    "    \n",
    "    for base in reversed(seq):\n",
    "        rev_seq += complement_base(base)\n",
    "        \n",
    "    return rev_seq"
   ]
  },
  {
   "cell_type": "code",
   "execution_count": 163,
   "id": "eedbc12e-4d90-4413-9154-224b5e70f7a7",
   "metadata": {},
   "outputs": [
    {
     "data": {
      "text/plain": [
       "'CCCTTT'"
      ]
     },
     "execution_count": 163,
     "metadata": {},
     "output_type": "execute_result"
    }
   ],
   "source": [
    "reverse_complement('AAAGGG')"
   ]
  },
  {
   "cell_type": "code",
   "execution_count": 166,
   "id": "836181d6-e754-4976-b874-7dce3afc99a1",
   "metadata": {},
   "outputs": [],
   "source": [
    "#Now changing function to include the possibility of working \n",
    "\n",
    "def complement_base(base, material = 'DNA'):\n",
    "    \"\"\"\"Returns the Watson-Crick complement of a base.\"\"\"\n",
    "    if base in 'Aa':\n",
    "        if material == 'DNA':\n",
    "            return 'T'\n",
    "        elif material == 'RNA':\n",
    "            return 'U'\n",
    "    elif base in 'TtUu':\n",
    "        return 'A'\n",
    "    elif base in 'Gg':\n",
    "        return 'C'\n",
    "    else:\n",
    "        return 'G'\n",
    "        \n",
    "def reverse_complement(seq, material = 'DNA'):\n",
    "    \"\"\"Compute the reverse complement of a sequence\"\"\"\n",
    "    #Initialize reverse complement\n",
    "    rev_seq = ''\n",
    "    \n",
    "    for base in reversed(seq):\n",
    "        rev_seq += complement_base(base, material=material)\n",
    "        \n",
    "    return rev_seq"
   ]
  },
  {
   "cell_type": "code",
   "execution_count": 167,
   "id": "08016789-78b5-485b-a52e-6f299ad57577",
   "metadata": {},
   "outputs": [
    {
     "data": {
      "text/plain": [
       "'CAUGCAUCGAUCGAUGCACCGUU'"
      ]
     },
     "execution_count": 167,
     "metadata": {},
     "output_type": "execute_result"
    }
   ],
   "source": [
    "reverse_complement('aACGGUGCAUCGAUCGAUGCAUG', material='RNA')"
   ]
  },
  {
   "cell_type": "code",
   "execution_count": 168,
   "id": "528c2fac-9f72-4768-bfc3-70d3e031b1d3",
   "metadata": {},
   "outputs": [],
   "source": [
    "def add_three_numbers(a,b,c):\n",
    "    return a + b +c"
   ]
  },
  {
   "cell_type": "code",
   "execution_count": 169,
   "id": "c9f3b708-36a8-453b-a454-cf79249a3fc6",
   "metadata": {},
   "outputs": [
    {
     "data": {
      "text/plain": [
       "40"
      ]
     },
     "execution_count": 169,
     "metadata": {},
     "output_type": "execute_result"
    }
   ],
   "source": [
    "add_three_numbers(4,7,29)"
   ]
  },
  {
   "cell_type": "code",
   "execution_count": 170,
   "id": "3cd2dbd9-f19c-4527-9f3b-ba1aef4cf532",
   "metadata": {},
   "outputs": [],
   "source": [
    "my_numbers = (4, 7, 29)"
   ]
  },
  {
   "cell_type": "code",
   "execution_count": 171,
   "id": "7b74d56c-89ae-4469-8b6b-68167455b62f",
   "metadata": {},
   "outputs": [
    {
     "data": {
      "text/plain": [
       "40"
      ]
     },
     "execution_count": 171,
     "metadata": {},
     "output_type": "execute_result"
    }
   ],
   "source": [
    "add_three_numbers(*my_numbers)\n",
    "#The Splat operator is the '*' in the argument. It unpacks the tuple or list and sends them to the function"
   ]
  },
  {
   "cell_type": "code",
   "execution_count": 172,
   "id": "ff5fb8b9-487f-4179-ab19-8c211d58e827",
   "metadata": {},
   "outputs": [
    {
     "data": {
      "text/plain": [
       "'ACACGAUGUGCAUCCAUCGAUACGAUCGAUGCAUGCAUCGAUGCUGACGUUAUGCAUGC'"
      ]
     },
     "execution_count": 172,
     "metadata": {},
     "output_type": "execute_result"
    }
   ],
   "source": [
    "seq"
   ]
  },
  {
   "cell_type": "code",
   "execution_count": 173,
   "id": "4c73d460-8704-4160-8dd7-d4d7b899d94a",
   "metadata": {},
   "outputs": [
    {
     "data": {
      "text/plain": [
       "14"
      ]
     },
     "execution_count": 173,
     "metadata": {},
     "output_type": "execute_result"
    }
   ],
   "source": [
    "seq.count('G')"
   ]
  },
  {
   "cell_type": "code",
   "execution_count": 175,
   "id": "522766fb-ab3f-43d7-aa34-bbd4085351e7",
   "metadata": {},
   "outputs": [
    {
     "data": {
      "text/plain": [
       "0.4915254237288136"
      ]
     },
     "execution_count": 175,
     "metadata": {},
     "output_type": "execute_result"
    }
   ],
   "source": [
    "(seq.count('G') + seq.count('C'))/len(seq)"
   ]
  },
  {
   "cell_type": "code",
   "execution_count": 176,
   "id": "783f4b54-447b-4f94-bb19-4f4400cb879a",
   "metadata": {},
   "outputs": [
    {
     "data": {
      "text/plain": [
       "3"
      ]
     },
     "execution_count": 176,
     "metadata": {},
     "output_type": "execute_result"
    }
   ],
   "source": [
    "'AAAAAAA'.count('AA')"
   ]
  },
  {
   "cell_type": "code",
   "execution_count": 177,
   "id": "43cc1d4e-7245-4560-9d12-4bb06a8f0ba7",
   "metadata": {},
   "outputs": [
    {
     "data": {
      "text/plain": [
       "5"
      ]
     },
     "execution_count": 177,
     "metadata": {},
     "output_type": "execute_result"
    }
   ],
   "source": [
    "seq.find('AUG')"
   ]
  },
  {
   "cell_type": "code",
   "execution_count": 178,
   "id": "b24a941e-35a2-4c2c-badb-3cd7a6d9a5b2",
   "metadata": {},
   "outputs": [
    {
     "data": {
      "text/plain": [
       "55"
      ]
     },
     "execution_count": 178,
     "metadata": {},
     "output_type": "execute_result"
    }
   ],
   "source": [
    "seq.rfind('AUG')"
   ]
  },
  {
   "cell_type": "code",
   "execution_count": 179,
   "id": "9990a4ea-3eec-44d0-9b52-955d06429e29",
   "metadata": {},
   "outputs": [
    {
     "data": {
      "text/plain": [
       "'ACACGATGTGCATCCATCGATACGATCGATGCATGCATCGATGCTGACGTTATGCATGC'"
      ]
     },
     "execution_count": 179,
     "metadata": {},
     "output_type": "execute_result"
    }
   ],
   "source": [
    "seq.replace('U','T')"
   ]
  },
  {
   "cell_type": "code",
   "execution_count": 180,
   "id": "61226fd0-37f2-4180-8f3c-82855064bd21",
   "metadata": {},
   "outputs": [
    {
     "data": {
      "text/plain": [
       "'The Dude abides'"
      ]
     },
     "execution_count": 180,
     "metadata": {},
     "output_type": "execute_result"
    }
   ],
   "source": [
    "word_tuple = ('The', 'Dude', 'abides')\n",
    "\n",
    "' '.join(word_tuple)"
   ]
  },
  {
   "cell_type": "code",
   "execution_count": 182,
   "id": "5d34259b-c236-4219-800d-1b660041b643",
   "metadata": {},
   "outputs": [],
   "source": [
    "adjective = 'sunny'\n",
    "plural_noun = 'computers'\n",
    "\n",
    "my_str = \"\"\"\n",
    "Let's do a Mad Lib!\n",
    "During the bootcamp, I feel {adjective}.\n",
    "The instructors give us {plural_noun}.\n",
    "\"\"\".format(adjective=adjective, plural_noun=plural_noun)"
   ]
  },
  {
   "cell_type": "code",
   "execution_count": 183,
   "id": "1d112532-5cf2-4644-9068-087cea50a373",
   "metadata": {},
   "outputs": [
    {
     "data": {
      "text/plain": [
       "'There are 50 in the US.'"
      ]
     },
     "execution_count": 183,
     "metadata": {},
     "output_type": "execute_result"
    }
   ],
   "source": [
    "n_states = 50\n",
    "pi = 3.14\n",
    "thing = 'rug'\n",
    "\n",
    "f'There are {n_states} in the US.'"
   ]
  },
  {
   "cell_type": "code",
   "execution_count": 184,
   "id": "840cef7f-f289-4594-aec3-7e8f8224d989",
   "metadata": {},
   "outputs": [
    {
     "data": {
      "text/plain": [
       "'Pi is approximately 3.14'"
      ]
     },
     "execution_count": 184,
     "metadata": {},
     "output_type": "execute_result"
    }
   ],
   "source": [
    "f'Pi is approximately {pi}'"
   ]
  },
  {
   "cell_type": "code",
   "execution_count": 185,
   "id": "1ac7425e-4584-4867-b9ad-a9e45376f639",
   "metadata": {},
   "outputs": [
    {
     "data": {
      "text/plain": [
       "'That rug really tied the room together.'"
      ]
     },
     "execution_count": 185,
     "metadata": {},
     "output_type": "execute_result"
    }
   ],
   "source": [
    "f'That {thing} really tied the room together.'"
   ]
  },
  {
   "cell_type": "code",
   "execution_count": 186,
   "id": "c22c3213-7746-45c6-9ccf-60c6ae3872cb",
   "metadata": {},
   "outputs": [
    {
     "name": "stdout",
     "output_type": "stream",
     "text": [
      "\u001b[34mApplications\u001b[m\u001b[m/ \u001b[34mVolumes\u001b[m\u001b[m/      \u001b[35metc\u001b[m\u001b[m@          \u001b[34msbin\u001b[m\u001b[m/\n",
      "\u001b[34mLibrary\u001b[m\u001b[m/      \u001b[34mbin\u001b[m\u001b[m/          \u001b[35mhome\u001b[m\u001b[m@         \u001b[35mtmp\u001b[m\u001b[m@\n",
      "\u001b[34mSystem\u001b[m\u001b[m/       \u001b[34mcores\u001b[m\u001b[m/        \u001b[34mopt\u001b[m\u001b[m/          \u001b[34musr\u001b[m\u001b[m/\n",
      "\u001b[34mUsers\u001b[m\u001b[m/        \u001b[34mdev\u001b[m\u001b[m/          \u001b[34mprivate\u001b[m\u001b[m/      \u001b[35mvar\u001b[m\u001b[m@\n"
     ]
    }
   ],
   "source": [
    "ls /"
   ]
  },
  {
   "cell_type": "code",
   "execution_count": 187,
   "id": "6409ea67-fa5f-4b11-82d2-c43b75d18578",
   "metadata": {},
   "outputs": [
    {
     "name": "stdout",
     "output_type": "stream",
     "text": [
      "\u001b[34mApplications\u001b[m\u001b[m/\n",
      "\u001b[34mDesktop\u001b[m\u001b[m/\n",
      "\u001b[34mDocuments\u001b[m\u001b[m/\n",
      "\u001b[34mDownloads\u001b[m\u001b[m/\n",
      "Lesson1.ipynb\n",
      "\u001b[34mLibrary\u001b[m\u001b[m/\n",
      "\u001b[34mMovies\u001b[m\u001b[m/\n",
      "\u001b[34mMusic\u001b[m\u001b[m/\n",
      "\u001b[34mOneDrive - California Institute of Technology\u001b[m\u001b[m/\n",
      "\u001b[34mPictures\u001b[m\u001b[m/\n",
      "\u001b[34mPublic\u001b[m\u001b[m/\n",
      "Untitled.ipynb\n",
      "Untitled1.ipynb\n",
      "\u001b[34mgit\u001b[m\u001b[m/\n",
      "\u001b[34mopt\u001b[m\u001b[m/\n",
      "zen.py\n"
     ]
    }
   ],
   "source": [
    "ls $HOME"
   ]
  },
  {
   "cell_type": "code",
   "execution_count": null,
   "id": "7f573797-c5ea-4450-a88b-c45a830da57f",
   "metadata": {},
   "outputs": [],
   "source": []
  }
 ],
 "metadata": {
  "kernelspec": {
   "display_name": "Python 3 (ipykernel)",
   "language": "python",
   "name": "python3"
  },
  "language_info": {
   "codemirror_mode": {
    "name": "ipython",
    "version": 3
   },
   "file_extension": ".py",
   "mimetype": "text/x-python",
   "name": "python",
   "nbconvert_exporter": "python",
   "pygments_lexer": "ipython3",
   "version": "3.9.12"
  }
 },
 "nbformat": 4,
 "nbformat_minor": 5
}
