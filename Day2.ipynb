{
 "cells": [
  {
   "cell_type": "code",
   "execution_count": 2,
   "id": "515a5a97-a50d-43b2-9543-0da4f01bf6ae",
   "metadata": {},
   "outputs": [
    {
     "data": {
      "text/plain": [
       "{'a': 6, 'b': 7, 'c': 27.6}"
      ]
     },
     "execution_count": 2,
     "metadata": {},
     "output_type": "execute_result"
    }
   ],
   "source": [
    "my_dict = {'a':6, 'b':7, 'c':27.6}\n",
    "my_dict"
   ]
  },
  {
   "cell_type": "code",
   "execution_count": 4,
   "id": "ba3837c9-7bd9-4516-92fe-31d0939a8a80",
   "metadata": {},
   "outputs": [
    {
     "data": {
      "text/plain": [
       "7"
      ]
     },
     "execution_count": 4,
     "metadata": {},
     "output_type": "execute_result"
    }
   ],
   "source": [
    "my_dict['b']"
   ]
  },
  {
   "cell_type": "markdown",
   "id": "6c99103b-00c6-46f0-93b4-20d04df1ad0d",
   "metadata": {},
   "source": [
    "Dictionaries run on Hash tables. Tool used to quickly look it up. Not ordered like lists, uses hash which has a circuitous route."
   ]
  },
  {
   "cell_type": "code",
   "execution_count": 5,
   "id": "22472432-b98e-43ce-ab60-47246f43180d",
   "metadata": {},
   "outputs": [],
   "source": [
    "my_dict=dict(a='yes', b='no', c='maybe')"
   ]
  },
  {
   "cell_type": "code",
   "execution_count": 6,
   "id": "5c823315-9b92-44ad-8811-6389676acb08",
   "metadata": {},
   "outputs": [
    {
     "data": {
      "text/plain": [
       "{'a': 'yes', 'b': 'no', 'c': 'maybe'}"
      ]
     },
     "execution_count": 6,
     "metadata": {},
     "output_type": "execute_result"
    }
   ],
   "source": [
    "my_dict"
   ]
  },
  {
   "cell_type": "code",
   "execution_count": 7,
   "id": "de193c8a-1cbd-4154-bda0-e1fe04d7439f",
   "metadata": {},
   "outputs": [],
   "source": [
    "my_dict['d']='Bootcamp is so much fun!'"
   ]
  },
  {
   "cell_type": "code",
   "execution_count": 8,
   "id": "b870cb8c-1470-469a-b627-f3ccb972fb83",
   "metadata": {},
   "outputs": [
    {
     "data": {
      "text/plain": [
       "{'a': 'yes', 'b': 'no', 'c': 'maybe', 'd': 'Bootcamp is so much fun!'}"
      ]
     },
     "execution_count": 8,
     "metadata": {},
     "output_type": "execute_result"
    }
   ],
   "source": [
    "my_dict"
   ]
  },
  {
   "cell_type": "code",
   "execution_count": 9,
   "id": "f3347fb7-ffe6-4f5f-9ee5-233e3fc18e2d",
   "metadata": {},
   "outputs": [],
   "source": [
    "my_dict['a']='I was not satisfied with entry \"a\"'"
   ]
  },
  {
   "cell_type": "code",
   "execution_count": 10,
   "id": "a448e1c8-7bb3-4e0d-892c-ea3b528c47e6",
   "metadata": {},
   "outputs": [],
   "source": [
    "my_dict=dict(a=1, b=2, c=3)"
   ]
  },
  {
   "cell_type": "code",
   "execution_count": 11,
   "id": "8828580c-8fa2-47d1-9a59-5a8df7ff0148",
   "metadata": {},
   "outputs": [
    {
     "data": {
      "text/plain": [
       "True"
      ]
     },
     "execution_count": 11,
     "metadata": {},
     "output_type": "execute_result"
    }
   ],
   "source": [
    "'a' in my_dict"
   ]
  },
  {
   "cell_type": "code",
   "execution_count": 12,
   "id": "b14e1b06-0530-47ed-a6e8-166367c95184",
   "metadata": {},
   "outputs": [
    {
     "data": {
      "text/plain": [
       "False"
      ]
     },
     "execution_count": 12,
     "metadata": {},
     "output_type": "execute_result"
    }
   ],
   "source": [
    "2 in my_dict"
   ]
  },
  {
   "cell_type": "code",
   "execution_count": 13,
   "id": "cff09798-e5db-4489-9851-4b055f0d25b5",
   "metadata": {},
   "outputs": [
    {
     "name": "stdout",
     "output_type": "stream",
     "text": [
      "a\n",
      "b\n",
      "c\n"
     ]
    }
   ],
   "source": [
    "for key in my_dict:\n",
    "    print(key)"
   ]
  },
  {
   "cell_type": "code",
   "execution_count": 14,
   "id": "dac97133-4cbc-41e2-9408-cda4f4772286",
   "metadata": {},
   "outputs": [
    {
     "name": "stdout",
     "output_type": "stream",
     "text": [
      "a 1\n",
      "b 2\n",
      "c 3\n"
     ]
    }
   ],
   "source": [
    "for key, value in my_dict.items():\n",
    "    print(key, value)"
   ]
  },
  {
   "cell_type": "markdown",
   "id": "09b735ea-42d2-4c32-ab45-f260f3baad6a",
   "metadata": {},
   "source": [
    "Can iterate through keys and values with the .items() function."
   ]
  },
  {
   "cell_type": "code",
   "execution_count": 15,
   "id": "42f2d86a-60b1-43dd-b271-47034a45e6aa",
   "metadata": {},
   "outputs": [],
   "source": [
    "for key in my_dict:\n",
    "    value = 'something new'"
   ]
  },
  {
   "cell_type": "code",
   "execution_count": 16,
   "id": "9b4b9f73-bc13-4b86-bb2e-7a88ccef0c0d",
   "metadata": {},
   "outputs": [
    {
     "data": {
      "text/plain": [
       "{'a': 1, 'b': 2, 'c': 3}"
      ]
     },
     "execution_count": 16,
     "metadata": {},
     "output_type": "execute_result"
    }
   ],
   "source": [
    "my_dict"
   ]
  },
  {
   "cell_type": "code",
   "execution_count": 18,
   "id": "e250ad65-d25f-4ae2-952f-c93983336ff5",
   "metadata": {},
   "outputs": [],
   "source": [
    "for key in my_dict:\n",
    "    my_dict[key] = 'something new'"
   ]
  },
  {
   "cell_type": "code",
   "execution_count": 19,
   "id": "11a4bbfd-90f6-4f57-890b-7d06bb6a25eb",
   "metadata": {},
   "outputs": [
    {
     "data": {
      "text/plain": [
       "{'a': 'something new',\n",
       " 'b': 'something new',\n",
       " 'c': 'something new',\n",
       " 'something new': 'something new'}"
      ]
     },
     "execution_count": 19,
     "metadata": {},
     "output_type": "execute_result"
    }
   ],
   "source": [
    "my_dict"
   ]
  },
  {
   "cell_type": "raw",
   "id": "3d00294a-c18f-4534-a05e-4c71153f1a2d",
   "metadata": {},
   "source": [
    "Iterating through lists doesn't automatically change the dictionary, so you need to do more to make changes."
   ]
  },
  {
   "cell_type": "code",
   "execution_count": 20,
   "id": "16867cf3-d0ea-4573-8536-bae6e88d0f32",
   "metadata": {},
   "outputs": [
    {
     "data": {
      "text/plain": [
       "4"
      ]
     },
     "execution_count": 20,
     "metadata": {},
     "output_type": "execute_result"
    }
   ],
   "source": [
    "len(my_dict)"
   ]
  },
  {
   "cell_type": "code",
   "execution_count": 21,
   "id": "9a6642c5-caaf-47cf-9237-016f4b1b0c3e",
   "metadata": {},
   "outputs": [],
   "source": [
    "del my_dict['something new']"
   ]
  },
  {
   "cell_type": "code",
   "execution_count": 22,
   "id": "08ae741b-6111-4b83-bd49-416f38f0f1dd",
   "metadata": {},
   "outputs": [
    {
     "data": {
      "text/plain": [
       "{'a': 'something new', 'b': 'something new', 'c': 'something new'}"
      ]
     },
     "execution_count": 22,
     "metadata": {},
     "output_type": "execute_result"
    }
   ],
   "source": [
    "my_dict"
   ]
  },
  {
   "cell_type": "code",
   "execution_count": 23,
   "id": "3a10445d-e89c-4e3e-b065-8df759b3e156",
   "metadata": {},
   "outputs": [
    {
     "data": {
      "text/plain": [
       "dict_keys(['a', 'b', 'c'])"
      ]
     },
     "execution_count": 23,
     "metadata": {},
     "output_type": "execute_result"
    }
   ],
   "source": [
    "my_dict.keys()"
   ]
  },
  {
   "cell_type": "code",
   "execution_count": 24,
   "id": "cc134590-efff-4463-8b24-d7968b7e4fe3",
   "metadata": {},
   "outputs": [
    {
     "data": {
      "text/plain": [
       "dict_values(['something new', 'something new', 'something new'])"
      ]
     },
     "execution_count": 24,
     "metadata": {},
     "output_type": "execute_result"
    }
   ],
   "source": [
    "my_dict.values()"
   ]
  },
  {
   "cell_type": "code",
   "execution_count": 25,
   "id": "cf43858f-5d76-4b7e-9224-f9e07d5cfe12",
   "metadata": {},
   "outputs": [
    {
     "data": {
      "text/plain": [
       "'something new'"
      ]
     },
     "execution_count": 25,
     "metadata": {},
     "output_type": "execute_result"
    }
   ],
   "source": [
    "my_dict.get('c')"
   ]
  },
  {
   "cell_type": "markdown",
   "id": "ef5f7e55-161e-4895-bcb4-7d48bfda62a2",
   "metadata": {},
   "source": [
    "'Get' and direct calling work in many the same ways. Good thing about .get() is that will return NO ERROR (and will return 'None') while direct calling (my_dict[]) will return an error.\n",
    "\n",
    "Using get('key',DEFAULT STATEMENT) will return the DEFAULT STATEMENT if the key is not found. Useful in plotting for missing keys and values."
   ]
  },
  {
   "cell_type": "code",
   "execution_count": 26,
   "id": "16fab441-76fe-4e44-abec-f776c367bf7e",
   "metadata": {},
   "outputs": [],
   "source": [
    "def concatenate_sequences(a,b):\n",
    "    seq= a + b\n",
    "    return seq"
   ]
  },
  {
   "cell_type": "code",
   "execution_count": 27,
   "id": "26a21bad-9354-46e3-a903-6f107b2e1bf7",
   "metadata": {},
   "outputs": [
    {
     "data": {
      "text/plain": [
       "'AACTAGTCGATCGacatcatcgta'"
      ]
     },
     "execution_count": 27,
     "metadata": {},
     "output_type": "execute_result"
    }
   ],
   "source": [
    "concatenate_sequences('AACTAGTCGATCG','acatcatcgta')"
   ]
  },
  {
   "cell_type": "markdown",
   "id": "338a8e33-ef35-4529-a6d7-bb27fd34857c",
   "metadata": {},
   "source": [
    "What if I want to concatenate unknown number of sequences? Use **kwargs"
   ]
  },
  {
   "cell_type": "code",
   "execution_count": 29,
   "id": "65135738-f7b2-498f-a8fc-b84c938d0400",
   "metadata": {},
   "outputs": [],
   "source": [
    "seqs = dict(a='acatctg', b='gcgcaggcg', c='atatatata', d='cccccccccc')\n",
    "\n",
    "def concatenate_sequences(a,b, **kwargs):\n",
    "    seq= a + b\n",
    "    \n",
    "    for key, value in kwargs.items():\n",
    "        seq += value\n",
    "    \n",
    "    return seq\n",
    "concatenate_sequences(**seqs) #This is a splat that builds a dictionary"
   ]
  },
  {
   "cell_type": "markdown",
   "id": "128926d3-65eb-4bd4-b4ea-3fa5b0466675",
   "metadata": {},
   "source": [
    "This set up requires me to have two sequences and then any number of additional values. "
   ]
  },
  {
   "cell_type": "markdown",
   "id": "4dc43934-0791-4dc4-b08b-6da3c344209d",
   "metadata": {},
   "source": [
    "Merging dictionaries below."
   ]
  },
  {
   "cell_type": "code",
   "execution_count": 31,
   "id": "8924cabe-d84a-495b-8453-c1e0278fdb23",
   "metadata": {},
   "outputs": [
    {
     "data": {
      "text/plain": [
       "{'a': 'acatctg', 'b': 'gcgcaggcg', 'c': 'atatatata', 'd': 'cccccccccc'}"
      ]
     },
     "execution_count": 31,
     "metadata": {},
     "output_type": "execute_result"
    }
   ],
   "source": [
    "seqs"
   ]
  },
  {
   "cell_type": "code",
   "execution_count": 32,
   "id": "8506c2db-b71c-46cf-a2a2-fd52397f0ad8",
   "metadata": {},
   "outputs": [],
   "source": [
    "restriction_dict=dict(KpnI='GGTACC', HindII='AAGCTT', EcoRI='GAATTC')"
   ]
  },
  {
   "cell_type": "code",
   "execution_count": 33,
   "id": "c6352ddb-8162-48b2-9a10-8cf8382446b7",
   "metadata": {},
   "outputs": [
    {
     "data": {
      "text/plain": [
       "{'KpnI': 'GGTACC', 'HindII': 'AAGCTT', 'EcoRI': 'GAATTC'}"
      ]
     },
     "execution_count": 33,
     "metadata": {},
     "output_type": "execute_result"
    }
   ],
   "source": [
    "restriction_dict"
   ]
  },
  {
   "cell_type": "code",
   "execution_count": 34,
   "id": "076ffcb6-be4a-4aa1-bbcf-ff5d3fa839ed",
   "metadata": {},
   "outputs": [
    {
     "data": {
      "text/plain": [
       "{'a': 'acatctg',\n",
       " 'b': 'gcgcaggcg',\n",
       " 'c': 'atatatata',\n",
       " 'd': 'cccccccccc',\n",
       " 'KpnI': 'GGTACC',\n",
       " 'HindII': 'AAGCTT',\n",
       " 'EcoRI': 'GAATTC'}"
      ]
     },
     "execution_count": 34,
     "metadata": {},
     "output_type": "execute_result"
    }
   ],
   "source": [
    "dict(**seqs, **restriction_dict)"
   ]
  },
  {
   "cell_type": "code",
   "execution_count": 35,
   "id": "fdcee950-ab2d-4c22-a936-da8e45b4ff36",
   "metadata": {},
   "outputs": [],
   "source": [
    "import sympy"
   ]
  },
  {
   "cell_type": "code",
   "execution_count": 36,
   "id": "ea3c4e2a-9187-485a-a299-e600616f2fbd",
   "metadata": {},
   "outputs": [
    {
     "data": {
      "text/plain": [
       "True"
      ]
     },
     "execution_count": 36,
     "metadata": {},
     "output_type": "execute_result"
    }
   ],
   "source": [
    "sympy.isprime(3253)"
   ]
  },
  {
   "cell_type": "code",
   "execution_count": 37,
   "id": "63adca46-c7f2-431e-9807-4815be27e33b",
   "metadata": {},
   "outputs": [
    {
     "data": {
      "text/plain": [
       "False"
      ]
     },
     "execution_count": 37,
     "metadata": {},
     "output_type": "execute_result"
    }
   ],
   "source": [
    "sympy.isprime(3252)"
   ]
  },
  {
   "cell_type": "code",
   "execution_count": 53,
   "id": "9228138a-39dd-4dd6-9f94-c7c57b79683b",
   "metadata": {},
   "outputs": [
    {
     "name": "stdout",
     "output_type": "stream",
     "text": [
      "[2, 3, 5, 7, 11, 13, 17, 19, 23, 29, 31, 37, 41, 43, 47, 53, 59, 61, 67, 71, 73, 79, 83, 89, 97, 101, 103, 107, 109, 113, 127, 131, 137, 139, 149, 151, 157, 163, 167, 173, 179, 181, 191, 193, 197, 199, 211, 223, 227, 229, 233, 239, 241, 251, 257, 263, 269, 271, 277, 281, 283, 293, 307, 311, 313, 317, 331, 337, 347, 349, 353, 359, 367, 373, 379, 383, 389, 397, 401, 409, 419, 421, 431, 433, 439, 443, 449, 457, 461, 463, 467, 479, 487, 491, 499, 503, 509, 521, 523, 541, 547, 557, 563, 569, 571, 577, 587, 593, 599, 601, 607, 613, 617, 619, 631, 641, 643, 647, 653, 659, 661, 673, 677, 683, 691, 701, 709, 719, 727, 733, 739, 743, 751, 757, 761, 769, 773, 787, 797, 809, 811, 821, 823, 827, 829, 839, 853, 857, 859, 863, 877, 881, 883, 887, 907, 911, 919, 929, 937, 941, 947, 953, 967, 971, 977, 983, 991, 997]\n"
     ]
    }
   ],
   "source": [
    "# Largest number to consider\n",
    "n_max = 1000\n",
    "\n",
    "# Initialize list of primes\n",
    "primes = []\n",
    "\n",
    "# Loop through odd integers and add primes\n",
    "for x in range(n_max+1):\n",
    "    if sympy.isprime(x):\n",
    "        primes.append(x)\n",
    "\n",
    "# Take a look\n",
    "print(primes)"
   ]
  },
  {
   "cell_type": "code",
   "execution_count": 54,
   "id": "f3df9014-3bbb-48fc-add9-0e05c5a0e47b",
   "metadata": {},
   "outputs": [],
   "source": [
    "primes = [x for x in range(n_max+1) if sympy.isprime(x)]"
   ]
  },
  {
   "cell_type": "code",
   "execution_count": 56,
   "id": "f301a77a-71aa-4998-80b7-d2e9eaa1a0ec",
   "metadata": {},
   "outputs": [
    {
     "name": "stdout",
     "output_type": "stream",
     "text": [
      "[2, 3, 5, 7, 11, 13, 17, 19, 23, 29, 31, 37, 41, 43, 47, 53, 59, 61, 67, 71, 73, 79, 83, 89, 97, 101, 103, 107, 109, 113, 127, 131, 137, 139, 149, 151, 157, 163, 167, 173, 179, 181, 191, 193, 197, 199, 211, 223, 227, 229, 233, 239, 241, 251, 257, 263, 269, 271, 277, 281, 283, 293, 307, 311, 313, 317, 331, 337, 347, 349, 353, 359, 367, 373, 379, 383, 389, 397, 401, 409, 419, 421, 431, 433, 439, 443, 449, 457, 461, 463, 467, 479, 487, 491, 499, 503, 509, 521, 523, 541, 547, 557, 563, 569, 571, 577, 587, 593, 599, 601, 607, 613, 617, 619, 631, 641, 643, 647, 653, 659, 661, 673, 677, 683, 691, 701, 709, 719, 727, 733, 739, 743, 751, 757, 761, 769, 773, 787, 797, 809, 811, 821, 823, 827, 829, 839, 853, 857, 859, 863, 877, 881, 883, 887, 907, 911, 919, 929, 937, 941, 947, 953, 967, 971, 977, 983, 991, 997]\n"
     ]
    }
   ],
   "source": [
    "print(primes)"
   ]
  },
  {
   "cell_type": "code",
   "execution_count": 58,
   "id": "4f1ecb32-d1be-47c4-adb7-d3464f43f632",
   "metadata": {},
   "outputs": [
    {
     "name": "stdout",
     "output_type": "stream",
     "text": [
      "[0, 1, 4, 9, 16, 25, 36, 49, 64, 81, 100, 121, 144, 169, 196, 225, 256, 289, 324, 361, 400, 441, 484, 529, 576, 625, 676, 729, 784, 841, 900, 961, 1024, 1089, 1156, 1225, 1296, 1369, 1444, 1521, 1600, 1681, 1764, 1849, 1936, 2025, 2116, 2209, 2304, 2401, 2500, 2601, 2704, 2809, 2916, 3025, 3136, 3249, 3364, 3481, 3600, 3721, 3844, 3969, 4096, 4225, 4356, 4489, 4624, 4761, 4900, 5041, 5184, 5329, 5476, 5625, 5776, 5929, 6084, 6241, 6400, 6561, 6724, 6889, 7056, 7225, 7396, 7569, 7744, 7921, 8100, 8281, 8464, 8649, 8836, 9025, 9216, 9409, 9604, 9801]\n"
     ]
    }
   ],
   "source": [
    "print([x**2 for x in range(100)])"
   ]
  },
  {
   "cell_type": "markdown",
   "id": "14738de9-1266-45d1-8076-98ebb55bc96d",
   "metadata": {},
   "source": [
    "\n",
    "***********************************************\n",
    "This is the good general rule for comprehensions. \n",
    "\n",
    "[expression_to_put_in_list for i_1 in iterable_1 if condition_1<br>\n",
    "                           <nbsp>for i_2 in iterable_2 if condition_2<br>\n",
    "                                 <nbsp>...<br>\n",
    "                           <nbsp>for i_n in iterable_n if condition_n]<br>\n",
    "                           \n",
    "Note: the 'expression_to_put_in_list' term can have its own 'if/then' statements\n",
    "***********************************************"
   ]
  },
  {
   "cell_type": "markdown",
   "id": "f78b9040-2549-448e-858c-770b5ffab743",
   "metadata": {},
   "source": [
    "Can also make comprehensions for dictionaries!"
   ]
  },
  {
   "cell_type": "code",
   "execution_count": 59,
   "id": "b5fde4da-a3ba-4ad8-859c-0e0541110271",
   "metadata": {},
   "outputs": [],
   "source": [
    "def mean(values):\n",
    "    \"\"\"Compute the mean of a sequence of numbers.\"\"\"\n",
    "    return sum(values) / len(values)"
   ]
  },
  {
   "cell_type": "code",
   "execution_count": 60,
   "id": "0ef23236-2ee6-41d6-af68-e57f91857e5e",
   "metadata": {},
   "outputs": [
    {
     "data": {
      "text/plain": [
       "3.0"
      ]
     },
     "execution_count": 60,
     "metadata": {},
     "output_type": "execute_result"
    }
   ],
   "source": [
    "mean([1,2,3,4,5])"
   ]
  },
  {
   "cell_type": "code",
   "execution_count": 61,
   "id": "b996d840-da79-4fda-bbc6-383ea203978c",
   "metadata": {},
   "outputs": [
    {
     "data": {
      "text/plain": [
       "3.5"
      ]
     },
     "execution_count": 61,
     "metadata": {},
     "output_type": "execute_result"
    }
   ],
   "source": [
    "mean([1.9,2.4,3.2,4.4,5.6])"
   ]
  },
  {
   "cell_type": "markdown",
   "id": "9d045b49-b67c-47a1-8695-066bde4c9865",
   "metadata": {},
   "source": [
    "***\n",
    "Learning about packages."
   ]
  },
  {
   "cell_type": "code",
   "execution_count": 62,
   "id": "6788619a-1ea0-49c3-8f95-5a40cd109b8e",
   "metadata": {},
   "outputs": [],
   "source": [
    "import numpy"
   ]
  },
  {
   "cell_type": "code",
   "execution_count": 64,
   "id": "34ff21eb-0521-4895-85a3-dabb39ab3f34",
   "metadata": {},
   "outputs": [
    {
     "data": {
      "text/plain": [
       "3.5"
      ]
     },
     "execution_count": 64,
     "metadata": {},
     "output_type": "execute_result"
    }
   ],
   "source": [
    "numpy.mean([1.9,2.4,3.2,4.4,5.6])"
   ]
  },
  {
   "cell_type": "code",
   "execution_count": 65,
   "id": "54cf4ea1-33fb-412c-986a-a4e11e505866",
   "metadata": {},
   "outputs": [
    {
     "data": {
      "text/plain": [
       "3.2"
      ]
     },
     "execution_count": 65,
     "metadata": {},
     "output_type": "execute_result"
    }
   ],
   "source": [
    "numpy.median([1.9,2.4,3.2,4.4,5.6])"
   ]
  },
  {
   "cell_type": "code",
   "execution_count": 67,
   "id": "fde2cce7-fc8f-4a33-85e5-fde3953021db",
   "metadata": {},
   "outputs": [],
   "source": [
    "import numpy as _"
   ]
  },
  {
   "cell_type": "code",
   "execution_count": 68,
   "id": "c9822969-851b-46c4-ab4b-982c5e54fd32",
   "metadata": {},
   "outputs": [],
   "source": [
    "import numpy as np"
   ]
  },
  {
   "cell_type": "code",
   "execution_count": 69,
   "id": "af6297fe-7c56-40fa-81c2-4a2297195ad8",
   "metadata": {},
   "outputs": [
    {
     "data": {
      "text/plain": [
       "3.2"
      ]
     },
     "execution_count": 69,
     "metadata": {},
     "output_type": "execute_result"
    }
   ],
   "source": [
    "np.median([1.9,2.4,3.2,4.4,5.6])"
   ]
  },
  {
   "cell_type": "code",
   "execution_count": 70,
   "id": "36b4bc53-f6e5-4d0a-b347-36246927d20e",
   "metadata": {},
   "outputs": [],
   "source": [
    "import na_utils"
   ]
  },
  {
   "cell_type": "markdown",
   "id": "4664f36c-9921-4625-a0d1-69fde3591bad",
   "metadata": {},
   "source": [
    "****\n",
    "File I/O"
   ]
  },
  {
   "cell_type": "code",
   "execution_count": 72,
   "id": "61f71c56-f9e8-4746-a060-f5152c23edaf",
   "metadata": {},
   "outputs": [],
   "source": [
    "import os\n",
    "import glob"
   ]
  },
  {
   "cell_type": "code",
   "execution_count": 84,
   "id": "e882cd25-09c0-4629-bb8b-825fa982aa0d",
   "metadata": {},
   "outputs": [
    {
     "name": "stdout",
     "output_type": "stream",
     "text": [
      "<class '_io.TextIOWrapper'>\n"
     ]
    }
   ],
   "source": [
    "with open('data/1OLG.pdb','r') as f:\n",
    "    print(type(f))"
   ]
  },
  {
   "cell_type": "code",
   "execution_count": 86,
   "id": "ac564fdb-9110-49c6-bf4d-6218122f463d",
   "metadata": {},
   "outputs": [],
   "source": [
    "with open('data/1OLG.pdb','r') as f:\n",
    "    f_str = f.read() #Bring in file as one string"
   ]
  },
  {
   "cell_type": "code",
   "execution_count": 87,
   "id": "34191df9-0828-4c1e-b856-0d725825c038",
   "metadata": {},
   "outputs": [],
   "source": [
    "with open('data/1OLG.pdb','r') as f:\n",
    "    f_list = f.readlines() #Bring in file into lists"
   ]
  },
  {
   "cell_type": "code",
   "execution_count": null,
   "id": "af98571b-ea88-43c7-ae02-9b6af3ad7846",
   "metadata": {},
   "outputs": [],
   "source": [
    "with open('data/1OLG.pdb','r') as f:\n",
    "    for i, line in enumerate(f): #Bring in lines with both list location and element\n",
    "        print(line.rstrip())"
   ]
  },
  {
   "cell_type": "code",
   "execution_count": null,
   "id": "c43ef296-255e-4b91-a0c1-4fa4d624546c",
   "metadata": {},
   "outputs": [],
   "source": [
    "#Way to open write files in safe way by checking first if there is a file by that filename\n",
    "fname = 'yogi.txt'\n",
    "\n",
    "if os.path.isfile(fname):\n",
    "    raise RuntimeError(f'{fname} already exists.') #This will throw an error if the file with filename already exists\n",
    "\n",
    "with open(fname, 'w') as f:\n",
    "    f.write('When you come to a fork in the road, take it.\\n')\n",
    "    f.write('You can observe a lot by watching.\\n')\n",
    "    f.write('I never said most of the things I said.\\n')"
   ]
  },
  {
   "cell_type": "code",
   "execution_count": 96,
   "id": "bc2207ee-649d-4363-b7cc-5356995c5604",
   "metadata": {},
   "outputs": [],
   "source": [
    "fname = 'atoms_chain_A.txt'\n",
    "\n",
    "if os.path.isfile(fname):\n",
    "    raise RuntimeError(f'{fname} already exists.')\n",
    "\n",
    "with open('data/1OLG.pdb','r') as f, open('atoms_chain_A.txt','w') as f_out:\n",
    "    for line in f:\n",
    "        if line[0:4] == 'ATOM' and line[21] == 'A':\n",
    "            f_out.write(line)"
   ]
  },
  {
   "cell_type": "code",
   "execution_count": 99,
   "id": "a8839692-8793-4738-8a84-952503888696",
   "metadata": {},
   "outputs": [],
   "source": [
    "file_list = glob.glob('data/*.pdb')  #Can be used to identify all files with certain extensions based on wildcard character"
   ]
  },
  {
   "cell_type": "code",
   "execution_count": 98,
   "id": "6c42b694-20a9-4c11-b068-6da513f74139",
   "metadata": {},
   "outputs": [
    {
     "data": {
      "text/plain": [
       "['data/1OLG.pdb', 'data/1J6Z.pdb', 'data/1FAG.pdb', 'data/2ERK.pdb']"
      ]
     },
     "execution_count": 98,
     "metadata": {},
     "output_type": "execute_result"
    }
   ],
   "source": [
    "file_list"
   ]
  },
  {
   "cell_type": "code",
   "execution_count": 100,
   "id": "8c2fcbec-5e2a-4ecb-af8f-deebd864e947",
   "metadata": {},
   "outputs": [
    {
     "ename": "SyntaxError",
     "evalue": "invalid syntax (3528599804.py, line 1)",
     "output_type": "error",
     "traceback": [
      "\u001b[0;36m  Input \u001b[0;32mIn [100]\u001b[0;36m\u001b[0m\n\u001b[0;31m    git status\u001b[0m\n\u001b[0m        ^\u001b[0m\n\u001b[0;31mSyntaxError\u001b[0m\u001b[0;31m:\u001b[0m invalid syntax\n"
     ]
    }
   ],
   "source": []
  },
  {
   "cell_type": "code",
   "execution_count": null,
   "id": "bc64b875-df2a-4d7f-89e5-9135f6587ec5",
   "metadata": {},
   "outputs": [],
   "source": []
  }
 ],
 "metadata": {
  "kernelspec": {
   "display_name": "Python 3 (ipykernel)",
   "language": "python",
   "name": "python3"
  },
  "language_info": {
   "codemirror_mode": {
    "name": "ipython",
    "version": 3
   },
   "file_extension": ".py",
   "mimetype": "text/x-python",
   "name": "python",
   "nbconvert_exporter": "python",
   "pygments_lexer": "ipython3",
   "version": "3.9.12"
  }
 },
 "nbformat": 4,
 "nbformat_minor": 5
}
